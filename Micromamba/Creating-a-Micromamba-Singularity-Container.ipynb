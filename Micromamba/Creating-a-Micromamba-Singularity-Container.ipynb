{
 "cells": [
  {
   "cell_type": "markdown",
   "id": "c5367b0d",
   "metadata": {},
   "source": [
    "![<CW3E Logo>](https://cw3e.ucsd.edu/images/cw3e_logo_files/wetransfer-b4ff74/CW3E%20Final%20Logo%20Suite/4-Horizontal-Acronym/Digital/PNG/CW3E-Logo-Horizontal-Acronym-FullColor.png \"Center for Western Weather and Water Extremes Logo\")"
   ]
  },
  {
   "cell_type": "markdown",
   "id": "2ff1f4bf",
   "metadata": {},
   "source": [
    "# Creating a Singularity Container for a Micromamba Environment on Expanse\n",
    "\n",
    "---"
   ]
  },
  {
   "cell_type": "markdown",
   "id": "c75d6cab",
   "metadata": {},
   "source": [
    "## Overview\n",
    "\n",
    "The first few sections are covered by [Jozette's notebook](https://github.com/CW3E/Research-Code-Portability-Tutorial/blob/main/Creating-a-Singularity-Container-for-a-Conda-Environment.ipynb)."
   ]
  },
  {
   "cell_type": "markdown",
   "id": "2ffa0285",
   "metadata": {},
   "source": [
    "## Creating a Singularity Definition/Recipe File\n",
    "---\n",
    "\n",
    "Definition files (aka container recipes) are the blueprint for creating a custom Singularity container. These type of files consist of the **header** and the **sections**. These parts will be briefly discussed below. For more information on definition files, refer to the [Singularity Documentation](https://docs.sylabs.io/guides/latest/user-guide/definition_files.html).\n",
    "\n",
    "This section significantly deviates from [Jozette's notebook](https://github.com/CW3E/Research-Code-Portability-Tutorial/blob/main/Creating-a-Singularity-Container-for-a-Conda-Environment.ipynb)."
   ]
  },
  {
   "cell_type": "markdown",
   "id": "ef20562a",
   "metadata": {},
   "source": [
    "### Generating a Definition File\n",
    "\n",
    "---\n",
    "\n",
    "The following line of code can be run to create your own definition file. Make sure to have this definition file in a system that has the capability to build a container (i.e., skyriver or feather)."
   ]
  },
  {
   "cell_type": "markdown",
   "id": "b8f8df09",
   "metadata": {},
   "source": [
    "```\n",
    "vim Singularity.def\n",
    "```"
   ]
  },
  {
   "cell_type": "markdown",
   "id": "880f140f",
   "metadata": {},
   "source": [
    "> Usually, the definition file for a Singularity container is just named \"Singularity\". However, if you are making a container for a specific environment, make sure to name it appropriately.\n",
    ">> Ex: `Singularity_NetCDF.def` as a definition file name to build a NetCDF environment container."
   ]
  },
  {
   "cell_type": "markdown",
   "id": "c621e9e3",
   "metadata": {},
   "source": [
    "### Header\n",
    "\n",
    "---\n",
    "\n",
    "The header section of a definition file describes the core OS to build and configure within the container. The header can be comprised of several keywords, but for the purposes of our container, we will only need `Bootstrap` and `From`. An example header is shown and explained below."
   ]
  },
  {
   "cell_type": "markdown",
   "id": "ca653ee7",
   "metadata": {},
   "source": [
    "```\n",
    "Bootstrap: docker\n",
    "From: mambaorg/micromamba:1.5.8\n",
    "```"
   ]
  },
  {
   "cell_type": "markdown",
   "id": "197fb64d",
   "metadata": {},
   "source": [
    "1. **Bootstrap** - this keyword refers to what kind of base you want to use (in this case, we want to use Docker).\n",
    "2. **From** - this keyword refers to the named container/reference to layers you want to use. In this case, there's already a [micromamba-docker image](https://micromamba-docker.readthedocs.io/en/latest/) that we're going to use.\n",
    "\n",
    "For more reference to the docker bootstrap agent, refer to the [Singularity appendix.](https://docs.sylabs.io/guides/latest/user-guide/appendix.html#build-docker-module)"
   ]
  },
  {
   "cell_type": "markdown",
   "id": "b3156f84",
   "metadata": {},
   "source": [
    "### Sections\n",
    "\n",
    "---\n",
    "\n",
    "The main content of a definition file is within the sections. Each section has its own function and provides different content and commands. The following sections were used to create the micromamba Singularity container (in this respective order)."
   ]
  },
  {
   "cell_type": "markdown",
   "id": "ae72b4b9",
   "metadata": {},
   "source": [
    "##### %labels\n",
    "\n",
    "This section is used to store metadata within the container. This section is often filled with information about the author and application. An example `%label` section is shown below."
   ]
  },
  {
   "cell_type": "markdown",
   "id": "d76cdf2b",
   "metadata": {},
   "source": [
    "```\n",
    "%labels\n",
    "    APPLICATION1_NAME Micromamba NWP Env\n",
    "    APPLICATION1_URL\n",
    "    APPLICATION1_VERSION 1.0\n",
    "\n",
    "    APPLICATION2_NAME micromamba-docker\n",
    "    APPLICATION2_URL https://github.com/mamba-org/micromamba-docker\n",
    "    APPLICATION2_VERSION 1.5.8\n",
    "\n",
    "    AUTHOR_NAME Corrine DeCiampa\n",
    "    AUTHOR_EMAIL cdeciampa@ucsd.edu\n",
    "\n",
    "    CO_AUTHOR_NAME Colin Grudzien\n",
    "    CO_AUTHOR_EMAIL cgrudzien@ucsd.edu\n",
    "\n",
    "    CO_AUTHOR_NAME Jozette Conti\n",
    "    CO_AUTHOR_EMAIL jlconti@ucsd.edu\n",
    "\n",
    "    CO_AUTHOR_NAME Patrick Mulrooney\n",
    "    CO_AUTHOR_EMAIL pmulrooney@ucsd.edu\n",
    "\n",
    "    LAST_UPDATED 2024.07.18\n",
    "\n",
    "```"
   ]
  },
  {
   "cell_type": "markdown",
   "id": "404f4027",
   "metadata": {},
   "source": [
    "##### %setup\n",
    "\n",
    "Any commands in this section are executed on the host system outside the container after the base OS has been installed. For the purposes of the conda container, leave this blank."
   ]
  },
  {
   "cell_type": "markdown",
   "id": "5652f669",
   "metadata": {},
   "source": [
    "```\n",
    "%setup\n",
    "```"
   ]
  },
  {
   "cell_type": "markdown",
   "id": "086a4bac",
   "metadata": {},
   "source": [
    "##### %environment\n",
    "\n",
    "This section allows you to define environmental variables set at runtime. If there are any variables needed during the build time, place them in the [`%post` section](#%post). During the building of the container, this section will be written to a file in the container’s metadata folder. This folder is then sourced during the runtime. For the purposes of the micromamba environment, it's extremely important that you bind these environment paths:"
   ]
  },
  {
   "cell_type": "markdown",
   "id": "fb1c1847",
   "metadata": {},
   "source": [
    "```\n",
    "%environment\n",
    "    # export generic path to bind work scripts / modules to\n",
    "    export PATH=\"${MAMBA_ROOT_PREFIX}/bin:$PATH\"\n",
    "    export PYTHONPATH=${PYTHONPATH}:/scrpt_dir\n",
    "```"
   ]
  },
  {
   "cell_type": "markdown",
   "id": "c998c34e",
   "metadata": {},
   "source": [
    "##### %files\n",
    "\n",
    "This section is significant for our container. In this section, you can copy any necessary files into the container. For the purposes of our micromamba container, we need to generate a list of requirements for the conda environment in Expanse. This can be achieved by running the following line in the base conda environment within Expanse, replacing `ENVIRONMENT_NAME` with the name of your conda environment."
   ]
  },
  {
   "cell_type": "markdown",
   "id": "7d66650d",
   "metadata": {},
   "source": [
    "```\n",
    "conda env export --from-history --name ENVIRONMENT_NAME > ENVIRONMENT_NAME.yml\n",
    "```"
   ]
  },
  {
   "cell_type": "markdown",
   "id": "9bb6765f",
   "metadata": {},
   "source": [
    "The `--from-history` flag tells conda to export a minimal list with the core package names specified when the environment was created:\n",
    "\n",
    "```\n",
    "name: nwp_env\n",
    "channels:\n",
    "  - conda-forge\n",
    "dependencies:\n",
    "  - python=3.12.1\n",
    "  - numpy\n",
    "  - pandas\n",
    "  - matplotlib\n",
    "  - seaborn\n",
    "  - cartopy\n",
    "  - jupyter\n",
    "  - netcdf4\n",
    "  - xarray\n",
    "  - scipy\n",
    "```"
   ]
  },
  {
   "cell_type": "markdown",
   "id": "e29cf010-df07-4de4-a1ef-b38051e0c2cf",
   "metadata": {},
   "source": [
    "This is much more portable than exporting the full dependencies channel hash as those specific packages may be incompatible across different systems, which prevents micromamba from effectively resolving dependency conflicts. Using the `--from-history` flag can avoid dependency conflicts when trying to build a new conda environment from an exported `ENVIRONMENT_NAME.yml` file.\n",
    "\n",
    "This `.yml` file, which is included in this repo as `nwp_env.yml`, can then be embedded into the container in the `/opt` folder through the definition file, as shown below."
   ]
  },
  {
   "cell_type": "markdown",
   "id": "e34dc814",
   "metadata": {},
   "source": [
    "```\n",
    "%files\n",
    "    # Import yml specs\n",
    "    ./nwp_env.yml /opt\n",
    "```"
   ]
  },
  {
   "cell_type": "markdown",
   "id": "8d7daf37",
   "metadata": {},
   "source": [
    "Now the required conda packages in Expanse are within our definition file."
   ]
  },
  {
   "cell_type": "markdown",
   "id": "2c24bcb9",
   "metadata": {},
   "source": [
    "<a id=\"%post\"></a>\n",
    "##### %post\n",
    "\n",
    "The `%post` section is the main section of all the sections. Making directories and installing software/libraries occurs within this section. This section consists of commands that would be run if a root user was directly in the terminal. (i.e., this section are the commands needed to install your program successfully). \n",
    "\n",
    "Our `%post` section is as follows:"
   ]
  },
  {
   "cell_type": "markdown",
   "id": "36679e8a",
   "metadata": {},
   "source": [
    "```\n",
    "%post -c /bin/bash\n",
    "\n",
    "    # Install into base environment from input yml\n",
    "    micromamba install -y -n base -f /opt/nwp_env.yml && \\\n",
    "    micromamba clean --all --yes\n",
    "    rm -f /opt/nwp_env.yml\n",
    "```"
   ]
  },
  {
   "cell_type": "markdown",
   "id": "e6daced2",
   "metadata": {},
   "source": [
    "Since we're using the [micromamba-docker image](https://hub.docker.com/r/mambaorg/micromamba), there's no need to download, install, and initialize micromamba. We can simply build our environment from the conda environment requirements `.yml` that was imported from Expanse.\n",
    "\n",
    "After this, we are done with the `%post` section."
   ]
  },
  {
   "cell_type": "markdown",
   "id": "22a060b7",
   "metadata": {},
   "source": [
    "##### %runscript\n",
    "\n",
    "This section comprises of the commands you would use to run the now-installed program from the `%post` section. \n",
    "\n",
    "The devs for the micromamba-docker image didn't build it with singularity in mind, so there is a small quirk that needs to be addressed in the runscript section."
   ]
  },
  {
   "cell_type": "markdown",
   "id": "8494bf30",
   "metadata": {},
   "source": [
    "```\n",
    "%runscript\n",
    "    #!/bin/bash\n",
    "\n",
    "    # Activate environment at system profile level for exec/ run/ instance/ shell\n",
    "    # provides Python libraries and all backends\n",
    "    source /usr/local/bin/_activate_current_env.sh\n",
    "```"
   ]
  },
  {
   "cell_type": "markdown",
   "id": "f113a9ec-2019-46fe-8ac6-a59642b8f474",
   "metadata": {},
   "source": [
    "This command in the `%runscript` section initializes `bash` and sources a script inherited from the `micromamba-docker` image that activates the base micromamba environment. Without this section, you would need to supply an extra command for `singularity exec` and `singularity run`."
   ]
  },
  {
   "cell_type": "markdown",
   "id": "88e18a74",
   "metadata": {},
   "source": [
    "##### %test\n",
    "\n",
    "This is the last section of our definition file! This section is run at the end of the build process. The test section for our definition files is just"
   ]
  },
  {
   "cell_type": "markdown",
   "id": "b6f8e426",
   "metadata": {},
   "source": [
    "```\n",
    "%test\n",
    "```"
   ]
  },
  {
   "cell_type": "markdown",
   "id": "ec7795ca",
   "metadata": {},
   "source": [
    "#### Finalized Definition File\n",
    "---\n",
    "\n",
    "Now that we have added all the necessary information, our final definition file should look like the following.  "
   ]
  },
  {
   "cell_type": "code",
   "execution_count": 1,
   "id": "e394ed17",
   "metadata": {},
   "outputs": [
    {
     "name": "stdout",
     "output_type": "stream",
     "text": [
      "Bootstrap: docker\n",
      "From: mambaorg/micromamba:1.5.8\n",
      "\n",
      "%labels\n",
      "    APPLICATION1_NAME Micromamba NWP Env\n",
      "    APPLICATION1_URL \n",
      "    APPLICATION1_VERSION 1.0\n",
      "\n",
      "    APPLICATION2_NAME micromamba-docker\n",
      "    APPLICATION2_URL https://github.com/mamba-org/micromamba-docker\n",
      "    APPLICATION2_VERSION 1.5.8\n",
      "\n",
      "    AUTHOR_NAME Corrine DeCiampa\n",
      "    AUTHOR_EMAIL cdeciampa@ucsd.edu\n",
      "\n",
      "    CO_AUTHOR_NAME Colin Grudzien\n",
      "    CO_AUTHOR_EMAIL cgrudzien@ucsd.edu\n",
      "\n",
      "    CO_AUTHOR_NAME Jozette Conti\n",
      "    CO_AUTHOR_EMAIL jlconti@ucsd.edu\n",
      "\n",
      "    CO_AUTHOR_NAME Patrick Mulrooney\n",
      "    CO_AUTHOR_EMAIL pmulrooney@ucsd.edu\n",
      "\n",
      "    LAST_UPDATED 2024.07.18\n",
      "\n",
      "%files\n",
      "    # Import yml specs\n",
      "    ./nwp_env.yml /opt\n",
      "\n",
      "%environment\n",
      "    # export generic path to bind work scripts / modules to\n",
      "    export PATH=\"${MAMBA_ROOT_PREFIX}/bin:$PATH\"\n",
      "    export PYTHONPATH=${PYTHONPATH}:/scrpt_dir\n",
      "\n",
      "%post -c /bin/bash \n",
      "\n",
      "    # Install environment at prefix\n",
      "    micromamba install -y -n base -f /opt/nwp_env.yml && \\\n",
      "    micromamba clean --all --yes \n",
      "    rm -f /opt/nwp_env.yml\n",
      "\n",
      "%runscript\n",
      "    #!/bin/bash\n",
      "\n",
      "    # Activate environment at system profile level for exec/ run/ instance/ shell\n",
      "    # provides Python libraries and all backends\n",
      "    source /usr/local/bin/_activate_current_env.sh\n",
      "\n"
     ]
    }
   ],
   "source": [
    "cat nwp_env.def"
   ]
  },
  {
   "cell_type": "markdown",
   "id": "7c163bcd-8290-4f0e-99f1-ac13c9b36554",
   "metadata": {},
   "source": [
    "This is also included as the `nwp_env.def` file in this repo."
   ]
  },
  {
   "cell_type": "markdown",
   "id": "a11bd54e",
   "metadata": {},
   "source": [
    "## Building a Singularity Container From a Definition File\n",
    "---\n",
    "\n",
    "This section is covered by [Jozette's notebook](https://github.com/CW3E/Research-Code-Portability-Tutorial/blob/main/Creating-a-Singularity-Container-for-a-Conda-Environment.ipynb).\n"
   ]
  },
  {
   "cell_type": "markdown",
   "id": "6ceba307",
   "metadata": {},
   "source": [
    "## Running/Shelling into a Singularity Container\n",
    "---"
   ]
  },
  {
   "cell_type": "markdown",
   "id": "0a4aa38a",
   "metadata": {},
   "source": [
    "This section is covered by [Jozette's notebook](https://github.com/CW3E/Research-Code-Portability-Tutorial/blob/main/Creating-a-Singularity-Container-for-a-Conda-Environment.ipynb)."
   ]
  },
  {
   "cell_type": "markdown",
   "id": "9d8a39b8",
   "metadata": {},
   "source": [
    "## Transferring a Singularity Container To Expanse\n",
    "\n",
    "---\n",
    "\n",
    "As Singularity containers cannot be built on Expanse, we must transfer the container we made on a different system to Expanse. We can run a rsync command (preferred over scp) to do this. The following syntax can be used for this command."
   ]
  },
  {
   "cell_type": "markdown",
   "id": "b6073efb",
   "metadata": {},
   "source": [
    "```\n",
    "rsync -avh --progress /path/to/nwp_env.sif <whoami>@login.expanse.sdsc.edu:/path/to/where/you/want/nwp_env.sif\n",
    "```"
   ]
  },
  {
   "cell_type": "markdown",
   "id": "21822259",
   "metadata": {},
   "source": [
    "For example, the line of code I ran for this was, "
   ]
  },
  {
   "cell_type": "markdown",
   "id": "1f3df3df",
   "metadata": {},
   "source": [
    "```\n",
    "rsync -avh --progress /home/cdeciampa/containers/nwp_env.sif cdeciampa@login.expanse.sdsc.edu:/expanse/nfs/cw3e/cwp157/cdeciampa/SOFT_ROOT/nwp_env.sif\n",
    "```"
   ]
  },
  {
   "cell_type": "markdown",
   "id": "6860246d",
   "metadata": {},
   "source": [
    "> This line of code is to be run in feather/skyriver. It then copies the Singularity image to Expanse.\n",
    "\n",
    "* The `--progress` flag will show the user the process of the image transfer. Once completed, make sure to verify the image has, in fact, transferred to the desired directory in Expanse."
   ]
  },
  {
   "cell_type": "markdown",
   "id": "2ce2d578",
   "metadata": {},
   "source": [
    "<a id=\"verify\"></a>\n",
    "## Verifying Your Container\n",
    "\n",
    "---\n",
    "\n",
    "Once the miniconda container has been transferred, run the following line of code</a> with your desired path in Expanse."
   ]
  },
  {
   "cell_type": "markdown",
   "id": "72898726",
   "metadata": {},
   "source": [
    "```\n",
    "singularity exec -e -B /expanse:/expanse /path/to/nwp_env.sif /usr/local/bin/_entrypoint.sh micromamba list\n",
    "```"
   ]
  },
  {
   "cell_type": "markdown",
   "id": "e6a82d36",
   "metadata": {},
   "source": [
    "For example, the line of code I ran was"
   ]
  },
  {
   "cell_type": "markdown",
   "id": "b1de9505",
   "metadata": {},
   "source": [
    "```\n",
    "singularity exec -e -B /expanse:/expanse /expanse/nfs/cw3e/cwp157/cdeciampa/SOFT_ROOT/nwp_env.sif /usr/local/bin/_entrypoint.sh micromamba list\n",
    "```"
   ]
  },
  {
   "cell_type": "markdown",
   "id": "6f8fb668",
   "metadata": {},
   "source": [
    "The `-e` flag is a longer form of the `-cleanenv` flag. Including this flag helps make sure the container environment is clean of any inherited environment variables from the host system. Hence, for best practices, this flag should be included in any `singularity exec` command."
   ]
  },
  {
   "cell_type": "markdown",
   "id": "04935838",
   "metadata": {},
   "source": [
    "> When using a container, it acts to replace your home operating system. However, there are times when we use a container and still want to reference files/directories on the home system. The `-B` or `--bind` flag is used to set up user defined bind paths, binding directories from the host system to the directories within the container. The syntax for this binding is `/hostdirectory:/containerdirectory` and multiple bind paths can be written by separating with a comma.\n",
    ">> If running this container on a server other than Expanse, these bind paths will need to be adjusted."
   ]
  },
  {
   "cell_type": "markdown",
   "id": "b20815b3",
   "metadata": {},
   "source": [
    "Once this command has been successfully run, you should see a list of all the installed packages in your container. Verify this list to ensure the container was built with the correct requirements."
   ]
  },
  {
   "cell_type": "markdown",
   "id": "bf7b3b37-e81a-493f-9d19-580426bcf907",
   "metadata": {},
   "source": [
    "### A quick note:"
   ]
  },
  {
   "cell_type": "markdown",
   "id": "4236ea11-5962-44aa-b019-e4f58664ba3d",
   "metadata": {},
   "source": [
    "As mentioned earlier, the `micromamba-docker` image has that quirk where micromamba needs to be sourced in the `%%runscript` section before you build the singularity container. Having that section there means that you don't need to source micromamba to `run` or `exec` python scripts:\n",
    "\n",
    "```\n",
    "singularity exec -e -B /expanse:/expanse /path/to/nwp_env.sif python hello_world.py\n",
    "```\n",
    "\n",
    "The command above will use the conda environment in your singularity container to run a python script located on Expanse without any issues or extra steps."
   ]
  },
  {
   "cell_type": "markdown",
   "id": "31367749-a2e7-49d3-a1fe-07f271e7072c",
   "metadata": {},
   "source": [
    "However, if you want to call micromamba directly, you *do* need to include `/usr/local/bin/_entrypoint.sh` before the `micromamba` command. If you leave that part out of a command calling micromamba:\n",
    "\n",
    "```\n",
    "singularity exec -e -B /expanse:/expanse /path/to/nwp_env.sif micromamba list\n",
    "```\n",
    "\n",
    "This is what it returns:\n",
    "\n",
    "```\n",
    "List of packages in environment: \"\"\n",
    "\n",
    "```"
   ]
  },
  {
   "cell_type": "markdown",
   "id": "fa165967-8a6c-439a-b61e-5e1617950fe1",
   "metadata": {},
   "source": [
    "This doesn't mean that there aren't any packages installed in your conda environment in the singularity container. It's just a bug inherited from the `micromamba-docker` image where the `micromamba` command doesn't know where micromamba is. This extra command is **only** needed if you want to call micromamba (`micromamba list`). It's not necessary to include for anything else, including running standalone python scripts."
   ]
  },
  {
   "cell_type": "markdown",
   "id": "032b8341",
   "metadata": {},
   "source": [
    "## Implementing the Container into Bash Scripts\n",
    "\n",
    "---\n",
    "\n",
    "This section is largely the same as [Jozette's notebook](https://github.com/CW3E/Research-Code-Portability-Tutorial/blob/main/Creating-a-Singularity-Container-for-a-Conda-Environment.ipynb), so I'll be skipping it.\n",
    "\n",
    "The only difference is that the `--bind` command should be `--bind /expanse:/expanse` for Expanse"
   ]
  },
  {
   "cell_type": "markdown",
   "id": "44400b15",
   "metadata": {},
   "source": [
    "## Using Containers to Run Python Scripts\n",
    "---\n",
    "\n",
    "This section is largely the same as [Jozette's notebook](https://github.com/CW3E/Research-Code-Portability-Tutorial/blob/main/Creating-a-Singularity-Container-for-a-Conda-Environment.ipynb), so I'll be skipping it.\n",
    "\n",
    "The only difference is that the `--bind` command should be `--bind /expanse:/expanse` for Expanse"
   ]
  },
  {
   "cell_type": "markdown",
   "id": "6017243a",
   "metadata": {},
   "source": [
    "## Using a Singularity Container to Launch a Jupyter Notebook\n",
    "---\n",
    "\n",
    "Another way we can utilize our container is by using it to launch a Juypter notebook server off of Expanse. Before we can achieve this, however, we need to check if our container has the required Jupyter packages. To check this, we can run the same line of code we used to [verify our container](#verify). For my specific container, I ran the following line \n"
   ]
  },
  {
   "cell_type": "markdown",
   "id": "9946692e",
   "metadata": {},
   "source": [
    "```\n",
    "singularity exec -e -B /expanse:/expanse /expanse/nfs/cw3e/cwp157/cdeciampa/SOFT_ROOT/nwp_env.sif /usr/local/bin/_entrypoint.sh micromamba list\n",
    "```"
   ]
  },
  {
   "cell_type": "markdown",
   "id": "c7e785a6",
   "metadata": {},
   "source": [
    "If the Juypter `notebook` and/or `jupyterlab` packages are listed within the contained environment, then the container can be used to launch a Juypter notebook from the terminal using [galyleo](https://github.com/mkandes/galyleo/tree/master):"
   ]
  },
  {
   "cell_type": "markdown",
   "id": "43e71457",
   "metadata": {},
   "source": [
    "```\n",
    "galyleo launch -A <project_ID> -p cw3e-shared -t 5-00:00:00 -j lab -B /expanse:/expanse,/scratch:/scratch --sif /expanse/path/to/nwp_env.sif -d /expanse/path/to/notebooks --env-modules singularitypro/4.1.2\n",
    "```"
   ]
  },
  {
   "cell_type": "markdown",
   "id": "75706f6b-6280-4393-bde9-0e364a8db400",
   "metadata": {},
   "source": [
    "Where:\n",
    "  - `-p` is the partition, which is either `cw3e-shared` or `cw3e-compute`. For jupyter notebooks on Expanse, the partition should always be `cw3e-shared` since notebooks aren't nearly computationally heavy enough to require a full node.\n",
    "  - `-t` is the time, which I chose 5 days.\n",
    "  - `-j` is the choice between `notebook` and `lab`. JupyterLab does everything Jupyter Notebook does and much more.\n",
    "  - `-B` are the same bindings as before, but now `/scratch:/scratch` is added as it's necessary for galyleo to run on Expanse.\n",
    "  - `--sif` is the full path to the singularity container.\n",
    "  - `-d` is the full path to where your Jupyter Notebook(s) are saved. This needs to be the path to a project folder, not your home or scratch directory.\n",
    "  - `--env-modules` tells galyleo which modules are loaded at launch and galyleo will fail to launch unless `singularitypro/4.1.2` is included.\n",
    "    - You also need to include slurm if you're going to be submitting jobs from your notebook:\n",
    "      - `--env-modules singularitypro/4.1.2,slurm/expanse/current`"
   ]
  },
  {
   "cell_type": "markdown",
   "id": "91865b57",
   "metadata": {},
   "source": [
    "As an example, the line of code I used is below."
   ]
  },
  {
   "cell_type": "markdown",
   "id": "f3969dcc",
   "metadata": {},
   "source": [
    "```\n",
    "galyleo launch -A cwp157 -p cw3e-shared -t 5-00:00:00 -j lab -B /expanse:/expanse,/scratch:/scratch --sif /expanse/nfs/cw3e/cwp157/cdeciampa/SOFT_ROOT/nwp_env.sif -d /expanse/nfs/cw3e/cwp157/cdeciampa/analysis/notebooks --env-modules singularitypro/4.1.2\n",
    "```"
   ]
  },
  {
   "cell_type": "markdown",
   "id": "a3b1605f",
   "metadata": {},
   "source": [
    "## Summary \n",
    "---\n",
    "This notebook explained how to build and use a Singularity container containing a micromamba environment."
   ]
  }
 ],
 "metadata": {
  "kernelspec": {
   "display_name": "Python 3 (ipykernel)",
   "language": "python",
   "name": "python3"
  },
  "language_info": {
   "codemirror_mode": {
    "name": "ipython",
    "version": 3
   },
   "file_extension": ".py",
   "mimetype": "text/x-python",
   "name": "python",
   "nbconvert_exporter": "python",
   "pygments_lexer": "ipython3",
   "version": "3.9.19"
  }
 },
 "nbformat": 4,
 "nbformat_minor": 5
}
